{
 "cells": [
  {
   "cell_type": "code",
   "execution_count": 11,
   "metadata": {},
   "outputs": [
    {
     "name": "stdout",
     "output_type": "stream",
     "text": [
      "Hello, World!\n",
      "2\n",
      "-1\n"
     ]
    }
   ],
   "source": [
    "#reload(TestFun)\n",
    "#from TestFun.py import hello\n",
    "import TestFun\n",
    "TestFun.hello()\n",
    "print(TestFun.add(1,1))\n",
    "print(TestFun.subtract(1,2))"
   ]
  },
  {
   "cell_type": "code",
   "execution_count": 13,
   "metadata": {},
   "outputs": [
    {
     "name": "stdout",
     "output_type": "stream",
     "text": [
      "Hello, World!\n",
      "2\n"
     ]
    }
   ],
   "source": [
    "from TestFun import hello\n",
    "TestFun.hello()\n",
    "print(TestFun.add(1,1))"
   ]
  }
 ],
 "metadata": {
  "kernelspec": {
   "display_name": "Python 3",
   "language": "python",
   "name": "python3"
  },
  "language_info": {
   "codemirror_mode": {
    "name": "ipython",
    "version": 3
   },
   "file_extension": ".py",
   "mimetype": "text/x-python",
   "name": "python",
   "nbconvert_exporter": "python",
   "pygments_lexer": "ipython3",
   "version": "3.6.5"
  }
 },
 "nbformat": 4,
 "nbformat_minor": 2
}
