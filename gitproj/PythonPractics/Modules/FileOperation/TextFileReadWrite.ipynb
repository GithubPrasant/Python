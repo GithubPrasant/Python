{
 "cells": [
  {
   "cell_type": "code",
   "execution_count": 33,
   "metadata": {},
   "outputs": [],
   "source": [
    "from datetime import datetime\n",
    "\n",
    "\n",
    "#_____________________________________________________\n",
    "#Read a file\n",
    "#_____________________________________________________\n",
    "def ReadFile(filePath):\n",
    "    file = open(filePath, \"r\") \n",
    "    for line in file: \n",
    "        print (line)\n",
    "        \n",
    "#ReadFile(\"C:\\\\Users\\ppradha7\\\\Desktop\\\\Desktop\\\\hyderabad_tours.txt\");        \n",
    "\n",
    "#_____________________________________________________\n",
    "#Write a file\n",
    "#_____________________________________________________\n",
    "def WriteFile(fileContent):\n",
    "    FilePath=datetime.utcnow().strftime('%Y_%m_%d_%H_%M_%S.%f')[:-3]+\".txt\"\n",
    "    Content = open(FilePath,'w')\n",
    "    Content.write(fileContent)\n",
    "  \n",
    "#WriteFile(\"sample text to write\");\n",
    "        \n"
   ]
  },
  {
   "cell_type": "code",
   "execution_count": null,
   "metadata": {},
   "outputs": [],
   "source": []
  }
 ],
 "metadata": {
  "kernelspec": {
   "display_name": "Python 3",
   "language": "python",
   "name": "python3"
  },
  "language_info": {
   "codemirror_mode": {
    "name": "ipython",
    "version": 3
   },
   "file_extension": ".py",
   "mimetype": "text/x-python",
   "name": "python",
   "nbconvert_exporter": "python",
   "pygments_lexer": "ipython3",
   "version": "3.6.5"
  }
 },
 "nbformat": 4,
 "nbformat_minor": 2
}
