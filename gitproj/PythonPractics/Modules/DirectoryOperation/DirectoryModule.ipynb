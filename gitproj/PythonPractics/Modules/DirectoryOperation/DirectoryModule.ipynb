{
 "cells": [
  {
   "cell_type": "code",
   "execution_count": 14,
   "metadata": {},
   "outputs": [],
   "source": [
    "import os\n",
    "\n",
    "def GetFileListFromDirectory(rootpath,extension):\n",
    "    filelist=[]\n",
    "    for subdir, dirs, files in os.walk(rootpath):\n",
    "        for file in files:\n",
    "            fpath=os.path.join(subdir, file)\n",
    "            if file.split(\".\")[-1].lower()==extension.lower():\n",
    "                filelist.append(fpath)\n",
    "        return filelist\n",
    "                \n",
    "        \n",
    "                        \n",
    "                        \n",
    "                        \n",
    "                        \n",
    "\n",
    "                        \n",
    "                        \n",
    " #GetFileListFromDirectory('C:/Demo/R/Files','csv')                       \n"
   ]
  }
 ],
 "metadata": {
  "kernelspec": {
   "display_name": "Python 3",
   "language": "python",
   "name": "python3"
  },
  "language_info": {
   "codemirror_mode": {
    "name": "ipython",
    "version": 3
   },
   "file_extension": ".py",
   "mimetype": "text/x-python",
   "name": "python",
   "nbconvert_exporter": "python",
   "pygments_lexer": "ipython3",
   "version": "3.6.5"
  }
 },
 "nbformat": 4,
 "nbformat_minor": 2
}
