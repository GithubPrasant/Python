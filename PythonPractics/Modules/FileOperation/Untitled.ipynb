{
 "cells": [
  {
   "cell_type": "code",
   "execution_count": 47,
   "metadata": {},
   "outputs": [
    {
     "name": "stdout",
     "output_type": "stream",
     "text": [
      "1.hyderabad City too tours\t\t\n",
      "\n",
      "2.hyderabad to srisailam temple-213\n",
      "\n",
      "3.hyderabad to tirupati-570 -Apply Leave\n",
      "\n",
      "4.hyderabad to bhadrachalam-310\n",
      "\n",
      "5.hyderabad to basara -208\n",
      "\n",
      "6.hyderabad to warangal-150\n",
      "\n",
      "7.Warangal Fort\n",
      "\n",
      "\tThousand Pillar Temple\n",
      "\n",
      "\tKakatiya Musical Garden\n",
      "\n",
      "\tSree Bhadrakali Devasthanam\n",
      "\n",
      "1. 2500,\n",
      "\n",
      "2.4000,\n",
      "\n",
      "3.4000,\n",
      "\n",
      "4.2000,\n",
      "\n",
      "5.2000,\n",
      "\n",
      "6.2000\n"
     ]
    },
    {
     "ename": "TypeError",
     "evalue": "'NoneType' object is not iterable",
     "output_type": "error",
     "traceback": [
      "\u001b[1;31m---------------------------------------------------------------------------\u001b[0m",
      "\u001b[1;31mTypeError\u001b[0m                                 Traceback (most recent call last)",
      "\u001b[1;32m<ipython-input-47-d05169f241af>\u001b[0m in \u001b[0;36m<module>\u001b[1;34m()\u001b[0m\n\u001b[0;32m     24\u001b[0m \u001b[1;33m\u001b[0m\u001b[0m\n\u001b[0;32m     25\u001b[0m  \u001b[1;31m#WriteCSVFile(ReadCSVFile('C:\\\\Demo\\\\PythonPractics\\\\Book1.csv'))\u001b[0m\u001b[1;33m\u001b[0m\u001b[1;33m\u001b[0m\u001b[0m\n\u001b[1;32m---> 26\u001b[1;33m \u001b[0mWriteCSVFile\u001b[0m\u001b[1;33m(\u001b[0m\u001b[0mReadFile\u001b[0m\u001b[1;33m(\u001b[0m\u001b[1;34m\"C:\\\\Users\\ppradha7\\\\Desktop\\\\Desktop\\\\hyderabad_tours.txt\"\u001b[0m\u001b[1;33m)\u001b[0m\u001b[1;33m)\u001b[0m\u001b[1;33m\u001b[0m\u001b[0m\n\u001b[0m",
      "\u001b[1;32m<ipython-input-47-d05169f241af>\u001b[0m in \u001b[0;36mWriteCSVFile\u001b[1;34m(rows)\u001b[0m\n\u001b[0;32m     19\u001b[0m     \u001b[1;32mwith\u001b[0m \u001b[0mf\u001b[0m\u001b[1;33m:\u001b[0m\u001b[1;33m\u001b[0m\u001b[0m\n\u001b[0;32m     20\u001b[0m         \u001b[0mwriter\u001b[0m  \u001b[1;33m=\u001b[0m \u001b[0mcsv\u001b[0m\u001b[1;33m.\u001b[0m\u001b[0mwriter\u001b[0m\u001b[1;33m(\u001b[0m\u001b[0mf\u001b[0m\u001b[1;33m)\u001b[0m\u001b[1;33m\u001b[0m\u001b[0m\n\u001b[1;32m---> 21\u001b[1;33m         \u001b[1;32mfor\u001b[0m \u001b[0mrow\u001b[0m \u001b[1;32min\u001b[0m \u001b[0mrows\u001b[0m\u001b[1;33m:\u001b[0m\u001b[1;33m\u001b[0m\u001b[0m\n\u001b[0m\u001b[0;32m     22\u001b[0m             \u001b[0mwriter\u001b[0m\u001b[1;33m.\u001b[0m\u001b[0mwriterow\u001b[0m\u001b[1;33m(\u001b[0m\u001b[0mrow\u001b[0m\u001b[1;33m)\u001b[0m\u001b[1;33m\u001b[0m\u001b[0m\n\u001b[0;32m     23\u001b[0m \u001b[1;33m\u001b[0m\u001b[0m\n",
      "\u001b[1;31mTypeError\u001b[0m: 'NoneType' object is not iterable"
     ]
    }
   ],
   "source": [
    "import csv\n",
    "from datetime import datetime\n",
    "from TextFileReadWrite import ReadFile\n",
    "\n",
    "def ReadCSVFile(filePath):\n",
    "    f = open(filePath, 'r')\n",
    "    with f:\n",
    "        reader = csv.DictReader(f)\n",
    "        for row in reader:\n",
    "            print(row)\n",
    "            #print(row['Issue'])\n",
    "           \n",
    "        \n",
    "  \n",
    "\n",
    "def WriteCSVFile(rows):\n",
    "    FilePath=datetime.utcnow().strftime('%Y_%m_%d_%H_%M_%S.%f')[:-3]+\".csv\"\n",
    "    f = open(FilePath, 'w')\n",
    "    with f:\n",
    "        writer  = csv.writer(f)\n",
    "        for row in rows:\n",
    "            writer.writerow(row)\n",
    "            \n",
    "            \n",
    " #WriteCSVFile(ReadCSVFile('C:\\\\Demo\\\\PythonPractics\\\\Book1.csv'))           \n",
    "WriteCSVFile(ReadFile(\"C:\\\\Users\\ppradha7\\\\Desktop\\\\Desktop\\\\hyderabad_tours.txt\"))           "
   ]
  }
 ],
 "metadata": {
  "kernelspec": {
   "display_name": "Python 3",
   "language": "python",
   "name": "python3"
  },
  "language_info": {
   "codemirror_mode": {
    "name": "ipython",
    "version": 3
   },
   "file_extension": ".py",
   "mimetype": "text/x-python",
   "name": "python",
   "nbconvert_exporter": "python",
   "pygments_lexer": "ipython3",
   "version": "3.6.5"
  }
 },
 "nbformat": 4,
 "nbformat_minor": 2
}
