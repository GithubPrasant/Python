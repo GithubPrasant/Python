{
 "cells": [
  {
   "cell_type": "code",
   "execution_count": 1,
   "metadata": {},
   "outputs": [],
   "source": [
    "import pyodbc\n",
    "\n",
    "UserDetails=[]\n",
    "con=pyodbc.connect(\"DRIVER={SQL Server};server=LH7U05CG6422MRS\\SQLEXPRESS2014;database=MicrosoftAzure\")\n",
    "cur=con.cursor()\n",
    "cur.execute(\"select top 10 * from UserDetails\")\n",
    "for row in cur:\n",
    "    UserDetails.append(row)\n",
    "    #print (row.FaceAttributeType)\n",
    "    #print('__________________________________________________________________________________________________________')\n",
    "cur.close()\n",
    "con.close()\n",
    "\n",
    "#print(UserDetails)"
   ]
  }
 ],
 "metadata": {
  "kernelspec": {
   "display_name": "Python 3",
   "language": "python",
   "name": "python3"
  },
  "language_info": {
   "codemirror_mode": {
    "name": "ipython",
    "version": 3
   },
   "file_extension": ".py",
   "mimetype": "text/x-python",
   "name": "python",
   "nbconvert_exporter": "python",
   "pygments_lexer": "ipython3",
   "version": "3.6.5"
  }
 },
 "nbformat": 4,
 "nbformat_minor": 2
}
