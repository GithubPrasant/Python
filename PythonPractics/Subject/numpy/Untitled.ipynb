{
 "cells": [
  {
   "cell_type": "code",
   "execution_count": 36,
   "metadata": {},
   "outputs": [
    {
     "name": "stdout",
     "output_type": "stream",
     "text": [
      "[0 0 0 0 0]\n"
     ]
    }
   ],
   "source": [
    "import numpy as np \n",
    "a = np.array([1,2,3]) \n",
    "#print (a)\n",
    "\n",
    "a = np.array([[1, 2], [3, 4]]) \n",
    "#print (a)\n",
    "\n",
    "a = np.array([1, 2, 3,4,5], ndmin = 2) \n",
    "#print (a)\n",
    "\n",
    "a = np.array([1, 2, 3], dtype = complex) \n",
    "#print (a)\n",
    "\n",
    "dt = np.dtype(np.int32) \n",
    "#print (dt)\n",
    "\n",
    "###############################################################################################################\n",
    "import numpy as np \n",
    "a = np.array([[1,2,3],[4,5,6]]) \n",
    "#print (a.shape)\n",
    "###############################################################################################################\n",
    "# this resizes the ndarray \n",
    "import numpy as np \n",
    "\n",
    "a = np.array([[1,2,3],[4,5,6]]) \n",
    "a.shape = (3,2) \n",
    "#print (a )\n",
    "###############################################################################################################\n",
    "# an array of evenly spaced numbers \n",
    "import numpy as np \n",
    "a = np.arange(24) \n",
    "#print (a)\n",
    "###############################################################################################################\n",
    "# this is one dimensional array \n",
    "import numpy as np \n",
    "a = np.arange(24) \n",
    "a.ndim  \n",
    "\n",
    "#print(a.ndim)\n",
    "# now reshape it \n",
    "b = a.reshape(2,4,3) \n",
    "#print (b )\n",
    "# b is having three dimensions\n",
    "\n",
    "\n",
    "####################################################################################################################\n",
    "\n",
    "# dtype of array is int8 (1 byte) \n",
    "import numpy as np \n",
    "x = np.array([1,2,3,4,5], dtype = np.int8) \n",
    "#print (x.itemsize)\n",
    "\n",
    "######################################################################################################################\n",
    "\n",
    "import numpy as np \n",
    "x = np.empty([3,2], dtype = int) \n",
    "#print (x)\n",
    "######################################################################################################################\n",
    "# array of five zeros. Default dtype is float \n",
    "import numpy as np \n",
    "x = np.zeros(5) \n",
    "#print (x)\n",
    "##################################################################################################################\n",
    "\n",
    "import numpy as np \n",
    "x = np.zeros((5,), dtype = np.int) \n",
    "print (x)"
   ]
  }
 ],
 "metadata": {
  "kernelspec": {
   "display_name": "Python 3",
   "language": "python",
   "name": "python3"
  },
  "language_info": {
   "codemirror_mode": {
    "name": "ipython",
    "version": 3
   },
   "file_extension": ".py",
   "mimetype": "text/x-python",
   "name": "python",
   "nbconvert_exporter": "python",
   "pygments_lexer": "ipython3",
   "version": "3.6.5"
  }
 },
 "nbformat": 4,
 "nbformat_minor": 2
}
