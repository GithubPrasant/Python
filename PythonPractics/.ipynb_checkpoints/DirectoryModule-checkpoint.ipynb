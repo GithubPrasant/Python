{
 "cells": [
  {
   "cell_type": "code",
   "execution_count": 20,
   "metadata": {},
   "outputs": [
    {
     "name": "stdout",
     "output_type": "stream",
     "text": [
      "140\n"
     ]
    }
   ],
   "source": [
    "import os\n",
    "\n",
    "def GetFileListFromDirectory(path,extension):\n",
    "    filelist=[]\n",
    "    for subdir, dirs, files in os.walk(rootdir):\n",
    "        for file in files:\n",
    "            fpath=os.path.join(subdir, file)\n",
    "            if file.split(\".\")[-1].lower()==fileExtlower():\n",
    "                filelist.append(fpath)\n",
    "                \n",
    "                \n",
    "        \n",
    "                        \n",
    "                        \n",
    "                        \n",
    "                        \n",
    "\n",
    "                        \n",
    "                        \n",
    "                        \n",
    "print(len(filelist))"
   ]
  }
 ],
 "metadata": {
  "kernelspec": {
   "display_name": "Python 3",
   "language": "python",
   "name": "python3"
  },
  "language_info": {
   "codemirror_mode": {
    "name": "ipython",
    "version": 3
   },
   "file_extension": ".py",
   "mimetype": "text/x-python",
   "name": "python",
   "nbconvert_exporter": "python",
   "pygments_lexer": "ipython3",
   "version": "3.6.5"
  }
 },
 "nbformat": 4,
 "nbformat_minor": 2
}
