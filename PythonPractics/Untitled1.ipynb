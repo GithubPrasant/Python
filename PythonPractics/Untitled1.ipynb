{
 "cells": [
  {
   "cell_type": "code",
   "execution_count": 45,
   "metadata": {},
   "outputs": [
    {
     "name": "stdout",
     "output_type": "stream",
     "text": [
      "67\n",
      "['C:/Demo/R/Files\\\\Movies.csv', 'C:/Demo/R/Files\\\\One.csv', 'C:/Demo/R/Files\\\\csv\\\\500CitiesHealthRecords.csv', 'C:/Demo/R/Files\\\\csv\\\\binary.csv', 'C:/Demo/R/Files\\\\csv\\\\clinical.csv', 'C:/Demo/R/Files\\\\csv\\\\Ex1.csv', 'C:/Demo/R/Files\\\\csv\\\\Ex2.csv', 'C:/Demo/R/Files\\\\csv\\\\Ex3.csv', 'C:/Demo/R/Files\\\\csv\\\\healthstudy2.csv', 'C:/Demo/R/Files\\\\csv\\\\ICD9CM_to_ICD10_2014CF.csv', 'C:/Demo/R/Files\\\\csv\\\\Loans .csv', 'C:/Demo/R/Files\\\\csv\\\\Movies - Copy (2).csv', 'C:/Demo/R/Files\\\\csv\\\\Movies - Copy.csv', 'C:/Demo/R/Files\\\\csv\\\\PatientEncounterReview.csv', 'C:/Demo/R/Files\\\\csv\\\\PatientEncounterReview_1K.csv', 'C:/Demo/R/Files\\\\csv\\\\RiskFactorData.csv', 'C:/Demo/R/Files\\\\csv\\\\Sal_Adv.csv', 'C:/Demo/R/Files\\\\csv\\\\Sal_Adv1.csv', 'C:/Demo/R/Files\\\\csv\\\\Three.csv', 'C:/Demo/R/Files\\\\csv\\\\Two.csv', 'C:/Demo/R/Files\\\\HandP\\\\1AW_HP1.csv', 'C:/Demo/R/Files\\\\HandP\\\\2EA_HP.csv', 'C:/Demo/R/Files\\\\HandP\\\\3JW_HP1.csv', 'C:/Demo/R/Files\\\\HandP\\\\ArtPiece.csv', 'C:/Demo/R/Files\\\\HandP\\\\diabetic.csv', 'C:/Demo/R/Files\\\\HandP\\\\IDs_mapping.csv', 'C:/Demo/R/Files\\\\HandP\\\\scrubbed_HP.csv', 'C:/Demo/R/Files\\\\HandP\\\\test.csv', 'C:/Demo/R/Files\\\\HandP\\\\train.csv', 'C:/Demo/R/Files\\\\MKB\\\\ClinicalData.csv', 'C:/Demo/R/Files\\\\MKB\\\\july2017.csv', 'C:/Demo/R/Files\\\\MKB\\\\sample.csv', 'C:/Demo/R/Files\\\\PI Files\\\\Cancer_document.csv', 'C:/Demo/R/Files\\\\PI Files\\\\ChestPain_document - Copy.csv', 'C:/Demo/R/Files\\\\PI Files\\\\ChestPain_document.csv', 'C:/Demo/R/Files\\\\PI Files\\\\Diabetes_document - Copy.csv', 'C:/Demo/R/Files\\\\PI Files\\\\Diabetes_document.csv', 'C:/Demo/R/Files\\\\PI Files\\\\Old Files\\\\Files\\\\Cancer.csv', 'C:/Demo/R/Files\\\\PI Files\\\\Old Files\\\\Files\\\\ChestPain.csv', 'C:/Demo/R/Files\\\\PI Files\\\\Old Files\\\\Files\\\\Diabetes.csv', 'C:/Demo/R/Files\\\\PI Files\\\\Old Files\\\\Files\\\\Leprosy.csv', 'C:/Demo/R/Files\\\\PI Files\\\\Old Files\\\\Files\\\\Malaria.csv', 'C:/Demo/R/Files\\\\PI Files\\\\Old Files\\\\Files\\\\TB.csv', 'C:/Demo/R/Files\\\\PI Files\\\\Old Files\\\\Files\\\\Typhoid.csv', 'C:/Demo/R/Files\\\\PI Files\\\\Old Files\\\\New folder\\\\CancerChemotherapy.csv', 'C:/Demo/R/Files\\\\PI Files\\\\Old Files\\\\New folder\\\\CancerDocument - Copy.csv', 'C:/Demo/R/Files\\\\PI Files\\\\Old Files\\\\New folder\\\\CancerDocument.csv', 'C:/Demo/R/Files\\\\PI Files\\\\Old Files\\\\New folder\\\\CancerSymptomsPatient - Copy.csv', 'C:/Demo/R/Files\\\\PI Files\\\\Old Files\\\\New folder\\\\CancerSymptomsPatient.csv', 'C:/Demo/R/Files\\\\PI Files\\\\Old Files\\\\New folder\\\\Chemotherapy_cancer.csv', 'C:/Demo/R/Files\\\\PI Files\\\\Old Files\\\\New folder\\\\ClinicalData.csv', 'C:/Demo/R/Files\\\\PI Files\\\\Old Files\\\\New folder\\\\PositiveHealth.csv', 'C:/Demo/R/Files\\\\PI Files\\\\Old Files\\\\New folder\\\\symptoms_cancer.csv', 'C:/Demo/R/Files\\\\PI Files\\\\Old Files\\\\New folder\\\\Symptoms_repository.csv', 'C:/Demo/R/Files\\\\PI Files\\\\Old Files\\\\New folder\\\\test.csv', 'C:/Demo/R/Files\\\\Titanic\\\\Carseats.csv', 'C:/Demo/R/Files\\\\Titanic\\\\ciforest.csv', 'C:/Demo/R/Files\\\\Titanic\\\\engineeredfeaturestree.csv', 'C:/Demo/R/Files\\\\Titanic\\\\firstforest.csv', 'C:/Demo/R/Files\\\\Titanic\\\\genderbasedmodel.csv', 'C:/Demo/R/Files\\\\Titanic\\\\genderclassmodel.csv', 'C:/Demo/R/Files\\\\Titanic\\\\myfirstdtree.csv', 'C:/Demo/R/Files\\\\Titanic\\\\myfullgrowntree.csv', 'C:/Demo/R/Files\\\\Titanic\\\\test.csv', 'C:/Demo/R/Files\\\\Titanic\\\\theyallperish.csv', 'C:/Demo/R/Files\\\\Titanic\\\\Titanic.csv', 'C:/Demo/R/Files\\\\Titanic\\\\train.csv']\n"
     ]
    }
   ],
   "source": [
    "import os\n",
    "rootdir = 'C:/Demo/R/Files'\n",
    "\n",
    "filelist=[]\n",
    "for subdir, dirs, files in os.walk(rootdir):\n",
    "    for file in files:\n",
    "        fpath=os.path.join(subdir, file)\n",
    "        #print (fpath)\n",
    "        if file.split(\".\")[-1].lower()=='csv':\n",
    "            filelist.append(fpath)\n",
    "                        \n",
    "                     \n",
    "                        \n",
    "                        \n",
    "\n",
    "                        \n",
    "                        \n",
    "                        \n",
    "print(len(filelist))\n",
    "print(filelist)\n"
   ]
  }
 ],
 "metadata": {
  "kernelspec": {
   "display_name": "Python 3",
   "language": "python",
   "name": "python3"
  },
  "language_info": {
   "codemirror_mode": {
    "name": "ipython",
    "version": 3
   },
   "file_extension": ".py",
   "mimetype": "text/x-python",
   "name": "python",
   "nbconvert_exporter": "python",
   "pygments_lexer": "ipython3",
   "version": "3.6.5"
  }
 },
 "nbformat": 4,
 "nbformat_minor": 2
}
